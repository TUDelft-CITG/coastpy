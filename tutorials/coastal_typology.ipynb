{
 "cells": [
  {
   "cell_type": "markdown",
   "id": "0",
   "metadata": {},
   "source": [
    "# Mapping the world's coast: A global 100-m coastal typology derived from satellite data using deep learning\n",
    "\n",
    "This notebook provides a brief introduction and access routines for the **Global Coastal Typology** dataset, available through the Global Coastal Transect Repository ([Calkoen et al., 2025](https://www.sciencedirect.com/science/article/pii/S1364815224003189)). Data is currently accessible with an access token and will be made publicly available upon publication.\n",
    "\n",
    "The coastal typology is a globally consistent, 100-m resolution classification derived from satellite imagery and elevation data using deep learning. It provides four attributes along nearly 10 million coastal transects: sediment type, coastal type, built environment presence, and coastal defense presence. The model was trained on ~1800 globally distributed samples and shows strong predictive performance, with F1 scores ranging from 0.67 to 0.83."
   ]
  },
  {
   "cell_type": "code",
   "execution_count": null,
   "id": "1",
   "metadata": {},
   "outputs": [],
   "source": [
    "import os\n",
    "\n",
    "import dotenv\n",
    "import fsspec\n",
    "import geopandas as gpd\n",
    "import hvplot.pandas\n",
    "import pandas as pd\n",
    "import pystac\n",
    "import shapely\n",
    "from dotenv import load_dotenv\n",
    "from ipyleaflet import Map, basemaps\n",
    "\n",
    "from coastpy.stac.utils import read_snapshot\n",
    "\n",
    "load_dotenv()\n",
    "\n",
    "# Configure cloud and Dask settings\n",
    "sas_token = os.getenv(\"AZURE_STORAGE_SAS_TOKEN\")\n",
    "storage_options = {\"account_name\": \"coclico\", \"sas_token\": sas_token}\n",
    "\n",
    "coclico_catalog = pystac.Catalog.from_file(\n",
    "    \"https://coclico.blob.core.windows.net/stac/v1/catalog.json\"\n",
    ")\n",
    "collection = coclico_catalog.get_child(\"gctr\")"
   ]
  },
  {
   "cell_type": "code",
   "execution_count": null,
   "id": "2",
   "metadata": {},
   "outputs": [],
   "source": [
    "snapshot = read_snapshot(collection, storage_options=storage_options)\n",
    "snapshot.head()"
   ]
  },
  {
   "cell_type": "code",
   "execution_count": null,
   "id": "3",
   "metadata": {},
   "outputs": [],
   "source": [
    "from ipyleaflet import Map, basemaps\n",
    "\n",
    "m = Map(basemap=basemaps.Esri.WorldImagery, scroll_wheel_zoom=True)\n",
    "m.center = (43.32, -1.97)\n",
    "m.zoom = 14\n",
    "m.layout.height = \"800px\"\n",
    "m"
   ]
  },
  {
   "cell_type": "code",
   "execution_count": null,
   "id": "4",
   "metadata": {},
   "outputs": [],
   "source": [
    "from coastpy.geo.utils import get_region_of_interest_from_map\n",
    "\n",
    "roi = get_region_of_interest_from_map(m, default_extent=(4.796, 53.108, 5.229, 53.272))\n",
    "west, south, east, north = roi.geometry.item().bounds"
   ]
  },
  {
   "cell_type": "markdown",
   "id": "5",
   "metadata": {},
   "source": [
    "## Fetch data from the database"
   ]
  },
  {
   "cell_type": "code",
   "execution_count": null,
   "id": "6",
   "metadata": {},
   "outputs": [],
   "source": [
    "import coastpy\n",
    "\n",
    "COLUMNS = [\n",
    "    \"transect_id\",\n",
    "    \"lon\",\n",
    "    \"lat\",\n",
    "    \"geometry\",\n",
    "    \"utm_epsg\",\n",
    "    \"bbox\",\n",
    "    \"quadkey\",\n",
    "    \"continent\",\n",
    "    \"country\",\n",
    "    \"common_region_name\",\n",
    "    \"class:shore_type\",\n",
    "    \"class:coastal_type\",\n",
    "    \"class:has_defense\",\n",
    "    \"class:is_built_environment\",\n",
    "]\n",
    "db = coastpy.io.STACQueryEngine(\n",
    "    stac_collection=collection,\n",
    "    storage_backend=\"azure\",\n",
    "    # Use columns to filter when you don't need all data;\n",
    "    columns=COLUMNS,\n",
    ")"
   ]
  },
  {
   "cell_type": "code",
   "execution_count": null,
   "id": "7",
   "metadata": {},
   "outputs": [],
   "source": [
    "from coastpy.utils.config import fetch_sas_token\n",
    "\n",
    "sas_token = fetch_sas_token(sas_token)\n",
    "df = db.get_data_within_bbox(west, south, east, north, sas_token=sas_token)\n",
    "df = df.assign(geometry=gpd.GeoSeries.from_xy(df.lon, df.lat, 4326))\n",
    "print(f\"Shape: {df.shape}\")\n",
    "df.head()"
   ]
  },
  {
   "cell_type": "code",
   "execution_count": null,
   "id": "8",
   "metadata": {},
   "outputs": [],
   "source": [
    "import importlib\n",
    "\n",
    "import coastpy.typology.encoding\n",
    "import coastpy.typology.visualization\n",
    "\n",
    "importlib.reload(coastpy.typology.visualization)\n",
    "importlib.reload(coastpy.typology.encoding)\n",
    "\n",
    "from coastpy.typology.visualization import CoastalTypologyDashboard"
   ]
  },
  {
   "cell_type": "code",
   "execution_count": null,
   "id": "9",
   "metadata": {},
   "outputs": [],
   "source": [
    "CoastalTypologyDashboard(df).show()"
   ]
  },
  {
   "cell_type": "code",
   "execution_count": null,
   "id": "10",
   "metadata": {},
   "outputs": [],
   "source": []
  }
 ],
 "metadata": {
  "kernelspec": {
   "display_name": "Python [conda env:coastal-full] *",
   "language": "python",
   "name": "conda-env-coastal-full-py"
  },
  "language_info": {
   "codemirror_mode": {
    "name": "ipython",
    "version": 3
   },
   "file_extension": ".py",
   "mimetype": "text/x-python",
   "name": "python",
   "nbconvert_exporter": "python",
   "pygments_lexer": "ipython3",
   "version": "3.12.9"
  }
 },
 "nbformat": 4,
 "nbformat_minor": 5
}
