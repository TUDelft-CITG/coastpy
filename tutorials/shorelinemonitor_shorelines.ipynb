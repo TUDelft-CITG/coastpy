{
 "cells": [
  {
   "cell_type": "markdown",
   "id": "0",
   "metadata": {},
   "source": [
    "# ShorelineMonitor Shorelines\n",
    "\n",
    "The ShorelineMonitor dataset provides Satellite-Derived Shorelines (SDS) extracted from annually\n",
    "composited Landsat satellite imagery spanning the years 1984-2024. These shorelines offer a global\n",
    "view of coastal change and shoreline dynamics, serving as a critical foundation for global coastal\n",
    "monitoring and analytics.\n",
    "\n",
    "The shorelines are represented as geospatial line features. Additional attributes in the dataset\n",
    "include measures of curvature (sinuosity, fractal dimension and self-intersection density), composite\n",
    "image identifiers, coverage metrics, and parameters used in the shoreline extraction process.\n",
    "\n",
    "This dataset builds on earlier efforts by Luijendijk et al. (2018) and Deltares, and has now been\n",
    "optimized as a cloud-native dataset (Calkoen et al. 2025) to facilitate global-scale coastal analytics.\n",
    "\n",
    "The dataset is currently a work in progress by Deltares (RPC) and is available upon reasonable request.\n",
    "Please contact the data provider for more information or collaboration opportunities.\n"
   ]
  },
  {
   "cell_type": "code",
   "execution_count": null,
   "id": "1",
   "metadata": {},
   "outputs": [],
   "source": [
    "import os\n",
    "\n",
    "import dotenv\n",
    "import fsspec\n",
    "import geopandas as gpd\n",
    "import hvplot.pandas\n",
    "import pandas as pd\n",
    "import pystac\n",
    "import shapely\n",
    "from dotenv import load_dotenv\n",
    "from ipyleaflet import Map, basemaps\n",
    "\n",
    "from coastpy.stac.utils import read_snapshot\n",
    "\n",
    "load_dotenv()\n",
    "\n",
    "# Configure cloud and Dask settings\n",
    "sas_token = os.getenv(\"AZURE_STORAGE_SAS_TOKEN\")\n",
    "storage_options = {\"account_name\": \"coclico\", \"sas_token\": sas_token}\n",
    "\n",
    "\n",
    "coclico_catalog = pystac.Catalog.from_file(\n",
    "    \"https://coclico.blob.core.windows.net/stac/v1/catalog.json\"\n",
    ")\n",
    "shorelines_col = coclico_catalog.get_child(\"shorelinemonitor-shorelines\")"
   ]
  },
  {
   "cell_type": "code",
   "execution_count": null,
   "id": "2",
   "metadata": {},
   "outputs": [],
   "source": [
    "shorelines_extents = read_snapshot(shorelines_col, storage_options=storage_options)\n",
    "shorelines_extents.head()"
   ]
  },
  {
   "cell_type": "code",
   "execution_count": null,
   "id": "3",
   "metadata": {},
   "outputs": [],
   "source": [
    "shorelines_extents.explore()"
   ]
  },
  {
   "cell_type": "code",
   "execution_count": null,
   "id": "4",
   "metadata": {},
   "outputs": [],
   "source": [
    "from ipyleaflet import Map, basemaps\n",
    "\n",
    "m = Map(basemap=basemaps.Esri.WorldImagery, scroll_wheel_zoom=True)\n",
    "m.center = (43.32, -1.97)\n",
    "m.zoom = 14\n",
    "m.layout.height = \"800px\"\n",
    "m"
   ]
  },
  {
   "cell_type": "code",
   "execution_count": null,
   "id": "5",
   "metadata": {},
   "outputs": [],
   "source": [
    "west, south, east, north = m.west, m.south, m.east, m.north\n",
    "\n",
    "# Default values for west, south, east, north (useful for testing or when not set)\n",
    "if not west:\n",
    "    west, south, east, north = (4.796, 53.108, 5.229, 53.272)\n",
    "\n",
    "# Calculate center\n",
    "center_lon = (west + east) / 2\n",
    "center_lat = (north + south) / 2\n",
    "\n",
    "# Print center in copy-pasteable format (rounded to 2 decimal places)\n",
    "print(f\"m.center = ({center_lon:.2f}, {center_lat:.2f})\")\n",
    "\n",
    "# Print extent in copy-pasteable format (rounded to 3 decimal places)\n",
    "print(f\"west, south, east, north = ({west:.3f}, {south:.3f}, {east:.3f}, {north:.3f})\")\n",
    "\n",
    "roi = gpd.GeoDataFrame(\n",
    "    geometry=[shapely.geometry.box(west, south, east, north)], crs=4326\n",
    ")"
   ]
  },
  {
   "cell_type": "markdown",
   "id": "6",
   "metadata": {},
   "source": [
    "## Read data from storage"
   ]
  },
  {
   "cell_type": "code",
   "execution_count": null,
   "id": "7",
   "metadata": {},
   "outputs": [],
   "source": [
    "import coastpy\n",
    "\n",
    "sds_engine = coastpy.io.STACQueryEngine(\n",
    "    stac_collection=shorelines_col,\n",
    "    storage_backend=\"azure\",\n",
    "    # columns = [\"geometry\", \"shoreline_id\", \"datetime\", \"bbox\", ] ... # when you don't need all data\n",
    ")"
   ]
  },
  {
   "cell_type": "code",
   "execution_count": null,
   "id": "8",
   "metadata": {},
   "outputs": [],
   "source": [
    "shorelines = sds_engine.get_data_within_bbox(\n",
    "    west, south, east, north, sas_token=sas_token\n",
    ")\n",
    "shorelines.head()"
   ]
  },
  {
   "cell_type": "markdown",
   "id": "9",
   "metadata": {},
   "source": [
    "## Plot the data on a map"
   ]
  },
  {
   "cell_type": "code",
   "execution_count": null,
   "id": "10",
   "metadata": {},
   "outputs": [],
   "source": [
    "shorelines = gpd.overlay(shorelines, roi)\n",
    "\n",
    "shorelines = shorelines.assign(\n",
    "    year=pd.to_datetime(shorelines.datetime).dt.strftime(\"%Y\")\n",
    ")\n",
    "shorelines[\"year\"] = shorelines[\"year\"].astype(\"int16\")"
   ]
  },
  {
   "cell_type": "code",
   "execution_count": null,
   "id": "11",
   "metadata": {},
   "outputs": [],
   "source": [
    "import colorcet as cc\n",
    "import matplotlib.pyplot as plt\n",
    "from matplotlib.colors import ListedColormap\n",
    "\n",
    "# Create a figure and axis\n",
    "fig, ax = plt.subplots(1, 1, figsize=(10, 10))\n",
    "\n",
    "cmap = ListedColormap(cc.bmy)\n",
    "\n",
    "# Plot the LineString geometries colored by 'year'\n",
    "shorelines.plot(\n",
    "    ax=ax,\n",
    "    column=\"year\",  # Attribute to color by\n",
    "    cmap=cmap,  # Colormap\n",
    "    legend=True,  # Enable legend\n",
    "    legend_kwds={\"label\": \"Year\", \"orientation\": \"vertical\"},\n",
    "    linewidth=1.5,  # Line width for better visibility\n",
    "    alpha=0.8,  # Transparency\n",
    ")\n",
    "\n",
    "import contextily as ctx\n",
    "\n",
    "ctx.add_basemap(\n",
    "    ax, crs=shorelines.crs.to_string(), source=ctx.providers.Esri.WorldImagery\n",
    ")\n",
    "\n",
    "# Show the plot\n",
    "plt.tight_layout()\n",
    "plt.show()"
   ]
  },
  {
   "cell_type": "markdown",
   "id": "12",
   "metadata": {},
   "source": [
    "## Work with the full dataset"
   ]
  },
  {
   "cell_type": "code",
   "execution_count": null,
   "id": "13",
   "metadata": {},
   "outputs": [],
   "source": [
    "import dask_geopandas\n",
    "\n",
    "fs = fsspec.filesystem(\"az\", **storage_options)\n",
    "urlpaths = shorelines_extents.href.to_list()\n",
    "shorelines = dask_geopandas.read_parquet(urlpaths, filesystem=fs)"
   ]
  },
  {
   "cell_type": "code",
   "execution_count": null,
   "id": "14",
   "metadata": {},
   "outputs": [],
   "source": [
    "shorelines"
   ]
  }
 ],
 "metadata": {
  "kernelspec": {
   "display_name": "Python [conda env:coastal-full] *",
   "language": "python",
   "name": "conda-env-coastal-full-py"
  },
  "language_info": {
   "codemirror_mode": {
    "name": "ipython",
    "version": 3
   },
   "file_extension": ".py",
   "mimetype": "text/x-python",
   "name": "python",
   "nbconvert_exporter": "python",
   "pygments_lexer": "ipython3",
   "version": "3.12.8"
  }
 },
 "nbformat": 4,
 "nbformat_minor": 5
}
