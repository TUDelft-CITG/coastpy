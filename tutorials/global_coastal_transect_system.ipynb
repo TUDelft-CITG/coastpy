{
 "cells": [
  {
   "cell_type": "markdown",
   "id": "0",
   "metadata": {},
   "source": [
    "# Global Coastal Transect System\n",
    "\n",
    "Cross-shore coastal transects are essential to coastal monitoring, offering a consistent reference line to measure coastal change, while providing a robust foundation to map coastal characteristics and derive coastal statistics thereof. The Global Coastal Transect System consists of more than 11 million cross-shore coastal transects uniformly spaced at 100-m intervals alongshore, for all OpenStreetMap coastlines that are longer than 5 kilometers. \n",
    "\n",
    "The dataset is extensively described in Calkoen et al., 2024, Enabling coastal analytics at planetary scale, Environmental Modelling & Software, that is available at [https://doi.org/10.1016/j.envsoft.2024.106257](https://doi.org/10.1016/j.envsoft.2024.106257); please cite this paper when the data is used. "
   ]
  },
  {
   "cell_type": "markdown",
   "id": "1",
   "metadata": {},
   "source": [
    "## By using STAC and GeoPandas "
   ]
  },
  {
   "cell_type": "code",
   "execution_count": null,
   "id": "2",
   "metadata": {},
   "outputs": [],
   "source": [
    "import os\n",
    "\n",
    "import dask\n",
    "\n",
    "dask.config.set({\"dataframe.query-planning\": False})\n",
    "\n",
    "import dask_geopandas\n",
    "import geopandas as gpd\n",
    "import hvplot.pandas\n",
    "import pandas as pd\n",
    "import pystac\n",
    "import shapely\n",
    "from ipyleaflet import Map, basemaps\n",
    "\n",
    "storage_options = {\"account_name\": \"coclico\"}"
   ]
  },
  {
   "cell_type": "markdown",
   "id": "3",
   "metadata": {},
   "source": [
    "### Connect to the CoCliCo STAC "
   ]
  },
  {
   "cell_type": "code",
   "execution_count": null,
   "id": "4",
   "metadata": {},
   "outputs": [],
   "source": [
    "coclico_catalog = pystac.Catalog.from_file(\n",
    "    \"https://coclico.blob.core.windows.net/stac/v1/catalog.json\"\n",
    ")\n",
    "gcts_collection = coclico_catalog.get_child(\"gcts\")\n",
    "gcts_collection"
   ]
  },
  {
   "cell_type": "markdown",
   "id": "5",
   "metadata": {},
   "source": [
    "### The dataset is geospatially partitioned"
   ]
  },
  {
   "cell_type": "code",
   "execution_count": null,
   "id": "6",
   "metadata": {},
   "outputs": [],
   "source": [
    "from coastpy.stac.utils import read_snapshot\n",
    "\n",
    "gcts_extents = read_snapshot(\n",
    "    gcts_collection,\n",
    "    columns=[\"geometry\", \"assets\"],\n",
    "    add_href=True,\n",
    "    storage_options=storage_options,\n",
    ")\n",
    "gcts_extents[[\"geometry\", \"href\"]].explore()"
   ]
  },
  {
   "cell_type": "markdown",
   "id": "7",
   "metadata": {},
   "source": [
    "### Use a dynamic map to extract data by region of interest\n",
    "\n",
    "The IPyleaflet map below can be used to find the bbox coordinates of a certain region.\n",
    "Zoom to the area where you want to extract data and run the next cell. Please wait until the map is rendered; otherwise the coordinates cannot be extracted. "
   ]
  },
  {
   "cell_type": "code",
   "execution_count": null,
   "id": "8",
   "metadata": {
    "tags": []
   },
   "outputs": [],
   "source": [
    "m = Map(basemap=basemaps.Esri.WorldImagery, scroll_wheel_zoom=True)\n",
    "m.center = 15.827, -95.96\n",
    "m.zoom = 15\n",
    "m.layout.height = \"800px\"\n",
    "m"
   ]
  },
  {
   "cell_type": "code",
   "execution_count": null,
   "id": "9",
   "metadata": {
    "tags": []
   },
   "outputs": [],
   "source": [
    "west, south, east, north = m.west, m.south, m.east, m.north\n",
    "# Note: small little hack to ensure the notebook also works when running all cells at once\n",
    "if not west:\n",
    "    west, south, east, north = (\n",
    "        30.28415679931641,\n",
    "        31.276790311057272,\n",
    "        30.630912780761722,\n",
    "        31.51123970051334,\n",
    "    )\n",
    "roi = gpd.GeoDataFrame(\n",
    "    geometry=[shapely.geometry.box(west, south, east, north)], crs=4326\n",
    ")"
   ]
  },
  {
   "cell_type": "markdown",
   "id": "10",
   "metadata": {},
   "source": [
    "### Find the data partitions that span the region of interest"
   ]
  },
  {
   "cell_type": "code",
   "execution_count": null,
   "id": "11",
   "metadata": {},
   "outputs": [],
   "source": [
    "hrefs = gpd.sjoin(gcts_extents, roi).href.to_list()"
   ]
  },
  {
   "cell_type": "markdown",
   "id": "12",
   "metadata": {},
   "source": [
    "## Read the data from cloud storage"
   ]
  },
  {
   "cell_type": "code",
   "execution_count": null,
   "id": "13",
   "metadata": {},
   "outputs": [],
   "source": [
    "transects = dask_geopandas.read_parquet(hrefs, storage_options=storage_options)\n",
    "transects = (\n",
    "    transects.sjoin(roi.to_crs(transects.crs)).drop(columns=[\"index_right\"]).compute()\n",
    ")\n",
    "\n",
    "transects.head()"
   ]
  },
  {
   "cell_type": "code",
   "execution_count": null,
   "id": "14",
   "metadata": {},
   "outputs": [],
   "source": [
    "import colorcet as cc\n",
    "\n",
    "transects[[\"geometry\", \"bearing\"]].hvplot(\n",
    "    geo=True,\n",
    "    tiles=\"ESRI\",\n",
    "    color=\"bearing\",\n",
    "    frame_width=650,\n",
    "    frame_height=550,\n",
    "    colorbar=True,\n",
    "    cmap=cc.CET_C6,\n",
    "    clim=(0, 360),\n",
    "    title=\"Transect geometries with north bearing [deg]\",\n",
    "    clabel=\"North Bearing [deg]\",\n",
    ")"
   ]
  },
  {
   "cell_type": "markdown",
   "id": "15",
   "metadata": {},
   "source": [
    "## Read data with IBIS"
   ]
  },
  {
   "cell_type": "code",
   "execution_count": null,
   "id": "16",
   "metadata": {},
   "outputs": [],
   "source": [
    "import ibis\n",
    "from ibis import _\n",
    "\n",
    "con = ibis.duckdb.connect(extensions=[\"spatial\"])"
   ]
  },
  {
   "cell_type": "code",
   "execution_count": null,
   "id": "17",
   "metadata": {},
   "outputs": [],
   "source": [
    "url = \"az://coclico.blob.core.windows.net/gcts/release/2024-08-02/*.parquet\"\n",
    "t = con.read_parquet(url, table_name=\"gcts\")"
   ]
  },
  {
   "cell_type": "markdown",
   "id": "18",
   "metadata": {},
   "source": [
    "### Filter by bbox"
   ]
  },
  {
   "cell_type": "code",
   "execution_count": null,
   "id": "19",
   "metadata": {},
   "outputs": [],
   "source": [
    "expr = t.filter(\n",
    "    _.bbox.xmin > west,\n",
    "    _.bbox.ymin > south,\n",
    "    _.bbox.xmax < east,\n",
    "    _.bbox.ymax < north,\n",
    ")"
   ]
  },
  {
   "cell_type": "markdown",
   "id": "20",
   "metadata": {},
   "source": [
    "### Materialize in Pandas"
   ]
  },
  {
   "cell_type": "code",
   "execution_count": null,
   "id": "21",
   "metadata": {},
   "outputs": [],
   "source": [
    "df = expr.to_pandas()"
   ]
  },
  {
   "cell_type": "code",
   "execution_count": null,
   "id": "22",
   "metadata": {},
   "outputs": [],
   "source": [
    "df"
   ]
  }
 ],
 "metadata": {
  "kernelspec": {
   "display_name": "Python [conda env:testenv] *",
   "language": "python",
   "name": "conda-env-testenv-py"
  },
  "language_info": {
   "codemirror_mode": {
    "name": "ipython",
    "version": 3
   },
   "file_extension": ".py",
   "mimetype": "text/x-python",
   "name": "python",
   "nbconvert_exporter": "python",
   "pygments_lexer": "ipython3",
   "version": "3.12.8"
  }
 },
 "nbformat": 4,
 "nbformat_minor": 5
}
