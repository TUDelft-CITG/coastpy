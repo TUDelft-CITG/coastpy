{
 "cells": [
  {
   "cell_type": "markdown",
   "id": "0",
   "metadata": {},
   "source": [
    "## Sentinel-2 L2A \n",
    "\n",
    "Read Sentinel-2 from Planetary Computer"
   ]
  },
  {
   "cell_type": "code",
   "execution_count": null,
   "id": "1",
   "metadata": {},
   "outputs": [],
   "source": [
    "from dotenv import load_dotenv\n",
    "\n",
    "load_dotenv()\n",
    "\n",
    "import os\n",
    "\n",
    "import fsspec\n",
    "import geopandas as gpd\n",
    "import hvplot.pandas\n",
    "import hvplot.xarray\n",
    "import numpy as np\n",
    "import odc.stac\n",
    "import planetary_computer as pc\n",
    "import pystac\n",
    "import rioxarray\n",
    "import shapely\n",
    "import stac_geoparquet\n",
    "import xarray as xr"
   ]
  },
  {
   "cell_type": "markdown",
   "id": "2",
   "metadata": {},
   "source": [
    "### Dask client"
   ]
  },
  {
   "cell_type": "code",
   "execution_count": null,
   "id": "3",
   "metadata": {},
   "outputs": [],
   "source": [
    "from distributed import Client\n",
    "\n",
    "client = Client()\n",
    "client"
   ]
  },
  {
   "cell_type": "markdown",
   "id": "4",
   "metadata": {},
   "source": [
    "### Coastal grid\n",
    "\n",
    "Fetch coastal grid with specified buffer size and zoom level. The buffer is derived from OSM coastline. Increasing the zoom level reduces the tile size (SlippyMapTiles). "
   ]
  },
  {
   "cell_type": "code",
   "execution_count": null,
   "id": "5",
   "metadata": {},
   "outputs": [],
   "source": [
    "from coastpy.utils.grid import coastal_grid_by_mgrs_tile, read_coastal_grid\n",
    "\n",
    "grid = read_coastal_grid(buffer_size=\"10000m\", zoom=9)\n",
    "grid = coastal_grid_by_mgrs_tile(grid)"
   ]
  },
  {
   "cell_type": "markdown",
   "id": "6",
   "metadata": {},
   "source": [
    "### Define region of interest"
   ]
  },
  {
   "cell_type": "code",
   "execution_count": null,
   "id": "7",
   "metadata": {},
   "outputs": [],
   "source": [
    "from ipyleaflet import Map, basemaps\n",
    "\n",
    "m = Map(basemap=basemaps.Esri.WorldImagery, scroll_wheel_zoom=True)\n",
    "m.center = m.center = (53.19, 4.9)\n",
    "m.zoom = 12\n",
    "m.layout.height = \"800px\"\n",
    "m"
   ]
  },
  {
   "cell_type": "code",
   "execution_count": null,
   "id": "8",
   "metadata": {},
   "outputs": [],
   "source": [
    "from coastpy.geo.utils import get_region_of_interest_from_map\n",
    "\n",
    "roi = get_region_of_interest_from_map(m, default_extent=(4.757, 53.108, 5.042, 53.272))"
   ]
  },
  {
   "cell_type": "markdown",
   "id": "9",
   "metadata": {},
   "source": [
    "## Define input parameters\n",
    "\n",
    "- The coastal zone shows how to mask by geometry\n",
    "- ODC GeoBox model is used to reproject raster data onto a rectilinear grid (typically defined in meters, UTM)."
   ]
  },
  {
   "cell_type": "code",
   "execution_count": null,
   "id": "10",
   "metadata": {},
   "outputs": [],
   "source": [
    "grid_roi = gpd.sjoin(grid, roi)\n",
    "\n",
    "coastal_zone = odc.geo.geom.Geometry(roi.geometry.item(), crs=roi.crs)\n",
    "\n",
    "try:\n",
    "    utm_epsg = grid_roi[\"coastal_grid:utm_epsg\"].unique().item()\n",
    "except:\n",
    "    print(\"This tutorial notebook only works for region of interests that are within one UTM zone.\")\n",
    "\n",
    "coastal_zone = odc.geo.geom.Geometry(roi.geometry.item(), crs=roi.crs)\n",
    "geobox = odc.geo.geobox.GeoBox.from_geopolygon(\n",
    "    coastal_zone.to_crs(utm_epsg), resolution=10\n",
    ")\n",
    "geobox"
   ]
  },
  {
   "cell_type": "markdown",
   "id": "11",
   "metadata": {},
   "source": [
    "### Retrieve Sentinel-2 L2A"
   ]
  },
  {
   "cell_type": "code",
   "execution_count": null,
   "id": "12",
   "metadata": {},
   "outputs": [],
   "source": [
    "from coastpy.eo.collection import S2Collection\n",
    "\n",
    "s2 = (\n",
    "    S2Collection(stac_cfg={})\n",
    "    .search(\n",
    "        roi,\n",
    "        date_range=\"2023-06-01/2023-08-31\",\n",
    "        query={\"eo:cloud_cover\": {\"lt\": 20}},\n",
    "    )\n",
    "    .load(\n",
    "        bands=[\"blue\", \"green\", \"red\", \"swir16\", \"SCL\"],\n",
    "        patch_url=pc.sign,\n",
    "        chunks={},\n",
    "        resampling=\"cubic\",\n",
    "        dtype=\"float32\",\n",
    "        resolution=10,\n",
    "        crs=\"utm\",\n",
    "    )\n",
    "    .mask_and_scale(\n",
    "        mask_geometry=coastal_zone,\n",
    "        mask_nodata=True,\n",
    "        scale=True,\n",
    "        scale_factor=0.0001,\n",
    "        scale_vars_to_skip=[\"SCL\"],\n",
    "        mask_scl=[\"NO_DATA\", \"DARK_AREA_PIXELS\", \"CLOUDS_HIGH_PROBABILITY\"],\n",
    "    )\n",
    "    .add_spectral_indices([\"MNDWI\"])\n",
    "    .execute(compute=False)\n",
    ")\n",
    "s2"
   ]
  },
  {
   "cell_type": "code",
   "execution_count": null,
   "id": "13",
   "metadata": {},
   "outputs": [],
   "source": [
    "xx = s2.compute()"
   ]
  },
  {
   "cell_type": "markdown",
   "id": "14",
   "metadata": {},
   "source": [
    "## Compute Sentinel-2 L2A Composite\n",
    "\n",
    "Same as above, but then using the composite method while filtering out the optimal imagery. "
   ]
  },
  {
   "cell_type": "code",
   "execution_count": null,
   "id": "15",
   "metadata": {},
   "outputs": [],
   "source": [
    "from datetime import timedelta\n",
    "\n",
    "import pystac\n",
    "\n",
    "from coastpy.eo.filter import filter_and_sort_stac_items\n",
    "\n",
    "\n",
    "def filter_stac_items(items: list[pystac.Item]) -> list[pystac.Item]:\n",
    "    \"\"\"Filter and sort STAC items.\"\"\"\n",
    "    return filter_and_sort_stac_items(\n",
    "        items,\n",
    "        group_by=[\"s2:mgrs_tile\", \"sat:relative_orbit\"],\n",
    "        time_window=timedelta(days=5),\n",
    "        max_num_groups=4,\n",
    "        max_items=30,  \n",
    "        only_summer=True,\n",
    "        verbose=False,\n",
    "    )"
   ]
  },
  {
   "cell_type": "code",
   "execution_count": null,
   "id": "16",
   "metadata": {},
   "outputs": [],
   "source": [
    "from coastpy.eo.collection import S2Collection\n",
    "\n",
    "composite = (\n",
    "    S2Collection(stac_cfg={})\n",
    "    .search(\n",
    "        roi,\n",
    "        date_range=\"2023-06-01/2023-08-31\",\n",
    "        query={\"eo:cloud_cover\": {\"lt\": 20}},\n",
    "    )\n",
    "    .load(\n",
    "        bands=[\"blue\", \"green\", \"red\", \"swir16\", \"SCL\"],\n",
    "        patch_url=pc.sign,\n",
    "        chunks={},\n",
    "        resampling=\"cubic\",\n",
    "        dtype=\"float32\",\n",
    "        resolution=10,\n",
    "        crs=\"utm\",\n",
    "    )\n",
    "    .mask_and_scale(\n",
    "        mask_geometry=coastal_zone,\n",
    "        mask_nodata=True,\n",
    "        scale=True,\n",
    "        scale_factor=0.0001,\n",
    "        scale_vars_to_skip=[\"SCL\"],\n",
    "        mask_scl=[\"NO_DATA\", \"DARK_AREA_PIXELS\", \"CLOUDS_HIGH_PROBABILITY\"],\n",
    "    )\n",
    "    .composite(method=\"simple\", percentile=50, filter_function=filter_stac_items)\n",
    "    .add_spectral_indices([\"MNDWI\"])\n",
    "    .execute(compute=False)\n",
    ")\n",
    "composite"
   ]
  },
  {
   "cell_type": "code",
   "execution_count": null,
   "id": "17",
   "metadata": {},
   "outputs": [],
   "source": [
    "cc = composite.compute()"
   ]
  },
  {
   "cell_type": "markdown",
   "id": "18",
   "metadata": {},
   "source": [
    "## Plot data on a map\n",
    "\n",
    "- Pay attention to nodata value; this value depends on how the data is retrieved."
   ]
  },
  {
   "cell_type": "code",
   "execution_count": null,
   "id": "19",
   "metadata": {},
   "outputs": [],
   "source": [
    "import panel as pn\n",
    "\n",
    "pn.Column(\n",
    "    cc.MNDWI.where(lambda xx: xx != -9999).hvplot(\n",
    "        x=\"x\", y=\"y\", rasterize=True, geo=True, tiles=\"OSM\"\n",
    "    )\n",
    "    * roi[[\"geometry\"]].hvplot(geo=True, line_color=\"red\", fill_color=None)\n",
    ").show()"
   ]
  },
  {
   "cell_type": "code",
   "execution_count": null,
   "id": "20",
   "metadata": {},
   "outputs": [],
   "source": []
  }
 ],
 "metadata": {
  "kernelspec": {
   "display_name": "Python [conda env:coastal-full] *",
   "language": "python",
   "name": "conda-env-coastal-full-py"
  },
  "language_info": {
   "codemirror_mode": {
    "name": "ipython",
    "version": 3
   },
   "file_extension": ".py",
   "mimetype": "text/x-python",
   "name": "python",
   "nbconvert_exporter": "python",
   "pygments_lexer": "ipython3",
   "version": "3.12.9"
  }
 },
 "nbformat": 4,
 "nbformat_minor": 5
}
