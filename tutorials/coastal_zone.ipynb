{
 "cells": [
  {
   "cell_type": "markdown",
   "id": "0",
   "metadata": {},
   "source": [
    "# Coastal Zone\n",
    "\n",
    "The Coastal Zone dataset provides a vectorized representation of coastal zones at multiple buffer distances. \n",
    "It is derived from a generalized version of the OpenStreetMap coastline (2023-02-09) and serves as a valuable \n",
    "tool for masking other datasets or for spatial analysis in coastal regions. \n",
    "\n",
    "This STAC collection includes multiple layers, each corresponding to a specific buffer distance:\n",
    "500 m, 1000 m, 2000 m, 5000 m, 10000 m, and 15000 m The buffer distance defines the zone's extent, with the \n",
    "total width being twice the buffer distance (e.g., a 5000 m buffer results in a zone 10km wide). \n",
    "\n",
    "Each layer in the collection is stored as a separate item and can be filtered using the `buffer_size` \n",
    "field in the item's properties. These layers contain only the geometry and are stored in cloud-optimized\n",
    "format to enable seamless integration with big geospatial data analytics products.\n",
    "\n",
    "Please consider the following citation when using this dataset:\n",
    "\n",
    "Floris Reinier Calkoen, Arjen Pieter Luijendijk, Kilian Vos, Etiënne Kras, Fedor Baart,\n",
    "Enabling coastal analytics at planetary scale, Environmental Modelling & Software, 2024,\n",
    "106257, ISSN 1364-8152, [https://doi.org/10.1016/j.envsoft.2024.106257](https://www.sciencedirect.com/science/article/pii/S1364815224003189)"
   ]
  },
  {
   "cell_type": "code",
   "execution_count": null,
   "id": "1",
   "metadata": {},
   "outputs": [],
   "source": [
    "import fsspec\n",
    "import geopandas as gpd\n",
    "import hvplot.pandas\n",
    "import pystac\n",
    "\n",
    "storage_options = {\"account_name\": \"coclico\"}"
   ]
  },
  {
   "cell_type": "markdown",
   "id": "2",
   "metadata": {},
   "source": [
    "### Connect to the CoCliCo STAC "
   ]
  },
  {
   "cell_type": "code",
   "execution_count": null,
   "id": "3",
   "metadata": {},
   "outputs": [],
   "source": [
    "coclico_catalog = pystac.Catalog.from_file(\n",
    "    \"https://coclico.blob.core.windows.net/stac/v1/catalog.json\"\n",
    ")\n",
    "coastal_zone_collection = coclico_catalog.get_child(\"coastal-zone\")\n",
    "coastal_zone_collection"
   ]
  },
  {
   "cell_type": "markdown",
   "id": "4",
   "metadata": {},
   "source": [
    "### The collection includes multiple buffer distances"
   ]
  },
  {
   "cell_type": "code",
   "execution_count": null,
   "id": "5",
   "metadata": {},
   "outputs": [],
   "source": [
    "list(coastal_zone_collection.get_all_items())"
   ]
  },
  {
   "cell_type": "code",
   "execution_count": null,
   "id": "6",
   "metadata": {},
   "outputs": [],
   "source": [
    "item = coastal_zone_collection.get_item(\"coastal_zone_15000m\")\n",
    "item"
   ]
  },
  {
   "cell_type": "markdown",
   "id": "7",
   "metadata": {},
   "source": [
    "## The data is stored here"
   ]
  },
  {
   "cell_type": "code",
   "execution_count": null,
   "id": "8",
   "metadata": {},
   "outputs": [],
   "source": [
    "href = item.assets[\"data\"].href\n",
    "href"
   ]
  },
  {
   "cell_type": "markdown",
   "id": "9",
   "metadata": {},
   "source": [
    "## Read it into GeoPandas"
   ]
  },
  {
   "cell_type": "code",
   "execution_count": null,
   "id": "10",
   "metadata": {},
   "outputs": [],
   "source": [
    "with fsspec.open(href, mode=\"rb\", **storage_options) as f:\n",
    "    coastal_zone = gpd.read_parquet(f)"
   ]
  },
  {
   "cell_type": "code",
   "execution_count": null,
   "id": "11",
   "metadata": {},
   "outputs": [],
   "source": [
    "coastal_zone.head()"
   ]
  },
  {
   "cell_type": "markdown",
   "id": "12",
   "metadata": {},
   "source": [
    "## Show the data on an interactive map"
   ]
  },
  {
   "cell_type": "code",
   "execution_count": null,
   "id": "13",
   "metadata": {},
   "outputs": [],
   "source": [
    "coastal_zone.hvplot.polygons(\n",
    "    geo=True,\n",
    "    tiles=\"ESRI\",\n",
    "    color=\"green\",  # Fill color\n",
    "    line_color=\"orange\",  # Outline color\n",
    "    alpha=0.8,  # Opacity for fill\n",
    "    width=600\n",
    ")"
   ]
  },
  {
   "cell_type": "code",
   "execution_count": null,
   "id": "14",
   "metadata": {},
   "outputs": [],
   "source": []
  }
 ],
 "metadata": {
  "kernelspec": {
   "display_name": "Python [conda env:coastal-full] *",
   "language": "python",
   "name": "conda-env-coastal-full-py"
  },
  "language_info": {
   "codemirror_mode": {
    "name": "ipython",
    "version": 3
   },
   "file_extension": ".py",
   "mimetype": "text/x-python",
   "name": "python",
   "nbconvert_exporter": "python",
   "pygments_lexer": "ipython3",
   "version": "3.12.9"
  }
 },
 "nbformat": 4,
 "nbformat_minor": 5
}
