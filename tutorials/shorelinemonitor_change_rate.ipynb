{
 "cells": [
  {
   "cell_type": "markdown",
   "id": "0",
   "metadata": {},
   "source": [
    "# ShorelineMonitor: Change Rate\n",
    "\n",
    "The ShorelineMonitor dataset provides [Satellite-Derived Shorelines (SDS)](https://radiantearth.github.io/stac-browser/#/external/coclico.blob.core.windows.net/stac/v1/shorelinemonitor-shorelines/collection.json) extracted from annually\n",
    "composited Landsat satellite imagery spanning the years 1984-2024. These shorelines offer a global\n",
    "view of coastal change and shoreline dynamics, serving as a foundation for coastal\n",
    "analytics, modeling and management. The shorelines have been mapped onto the [Global Coastal Transect System](https://radiantearth.github.io/stac-browser/#/external/coclico.blob.core.windows.net/stac/v1/gcts/collection.json) to form a [new dataset](https://radiantearth.github.io/stac-browser/#/external/coclico.blob.core.windows.net/stac/v1/shorelinemonitor-series/collection.json) of more than 7.5 million time-series. \n",
    "\n",
    "This notebook shows how to explore multi-decadal trends in shoreline change that are extracted from the full dataset of time series. The dataset is available upon reasonable request. Please contact the data provider for more information or collaboration opportunities."
   ]
  },
  {
   "cell_type": "code",
   "execution_count": null,
   "id": "1",
   "metadata": {},
   "outputs": [],
   "source": [
    "import os\n",
    "\n",
    "import dotenv\n",
    "import fsspec\n",
    "import geopandas as gpd\n",
    "import hvplot.pandas\n",
    "import pandas as pd\n",
    "import pystac\n",
    "import shapely\n",
    "from dotenv import load_dotenv\n",
    "from ipyleaflet import Map, basemaps\n",
    "\n",
    "from coastpy.stac.utils import read_snapshot\n",
    "\n",
    "load_dotenv()\n",
    "\n",
    "# Configure cloud and Dask settings\n",
    "sas_token = os.getenv(\"AZURE_STORAGE_SAS_TOKEN\")\n",
    "storage_options = {\"account_name\": \"coclico\", \"sas_token\": sas_token}\n",
    "\n",
    "coclico_catalog = pystac.Catalog.from_file(\n",
    "    \"https://coclico.blob.core.windows.net/stac/v1/catalog.json\"\n",
    ")\n",
    "collection = coclico_catalog.get_child(\"gctr\")"
   ]
  },
  {
   "cell_type": "code",
   "execution_count": null,
   "id": "2",
   "metadata": {},
   "outputs": [],
   "source": [
    "snapshot = read_snapshot(collection, storage_options=storage_options)\n",
    "snapshot.head()"
   ]
  },
  {
   "cell_type": "code",
   "execution_count": null,
   "id": "3",
   "metadata": {},
   "outputs": [],
   "source": [
    "snapshot.explore()"
   ]
  },
  {
   "cell_type": "code",
   "execution_count": null,
   "id": "4",
   "metadata": {},
   "outputs": [],
   "source": [
    "from ipyleaflet import Map, basemaps\n",
    "\n",
    "m = Map(basemap=basemaps.Esri.WorldImagery, scroll_wheel_zoom=True)\n",
    "m.center = (43.32, -1.97)\n",
    "m.zoom = 14\n",
    "m.layout.height = \"800px\"\n",
    "m"
   ]
  },
  {
   "cell_type": "code",
   "execution_count": null,
   "id": "5",
   "metadata": {},
   "outputs": [],
   "source": [
    "from coastpy.geo.utils import get_region_of_interest_from_map\n",
    "\n",
    "roi = get_region_of_interest_from_map(m, default_extent=(4.796, 53.108, 5.229, 53.272))\n",
    "west, south, east, north = roi.geometry.item().bounds"
   ]
  },
  {
   "cell_type": "markdown",
   "id": "6",
   "metadata": {},
   "source": [
    "## Fetch data from the database"
   ]
  },
  {
   "cell_type": "code",
   "execution_count": null,
   "id": "7",
   "metadata": {},
   "outputs": [],
   "source": [
    "import coastpy\n",
    "\n",
    "db = coastpy.io.STACQueryEngine(\n",
    "    stac_collection=collection,\n",
    "    storage_backend=\"azure\",\n",
    "    # columns = [\"geometry\", \"transect_id\", \"sds:change_rate\"] ... # when you don't need all data\n",
    ")"
   ]
  },
  {
   "cell_type": "code",
   "execution_count": null,
   "id": "8",
   "metadata": {},
   "outputs": [],
   "source": [
    "from coastpy.utils.config import fetch_sas_token\n",
    "\n",
    "sas_token = fetch_sas_token(sas_token)\n",
    "df = db.get_data_within_bbox(west, south, east, north, sas_token=sas_token)\n",
    "print(f\"Shape: {df.shape}\")\n",
    "df.head()"
   ]
  },
  {
   "cell_type": "code",
   "execution_count": null,
   "id": "9",
   "metadata": {},
   "outputs": [],
   "source": [
    "ac = gpd.GeoDataFrame(\n",
    "    df[[\"transect_id\", \"sds:change_rate\"]],\n",
    "    geometry=gpd.GeoSeries.from_xy(df.lon, df.lat, crs=4326),\n",
    ")"
   ]
  },
  {
   "cell_type": "code",
   "execution_count": null,
   "id": "10",
   "metadata": {},
   "outputs": [],
   "source": [
    "import colorcet as cc\n",
    "import hvplot.pandas\n",
    "\n",
    "\n",
    "def plot_shoreline_change_trend(ac_gdf):\n",
    "    \"\"\"\n",
    "    Simple hvplot visualization for shoreline change trends.\n",
    "    \"\"\"\n",
    "    # Calculate the 2.5th and 97.5th percentiles to reduce extreme outliers\n",
    "    lower_quantile = ac_gdf[\"sds:change_rate\"].quantile(0.025)\n",
    "    upper_quantile = ac_gdf[\"sds:change_rate\"].quantile(0.975)\n",
    "\n",
    "    # Define symmetric color limits around zero for clear erosion/accretion visualization\n",
    "    max_abs_range = max(abs(lower_quantile), abs(upper_quantile))\n",
    "    clim = (-max_abs_range, max_abs_range)\n",
    "\n",
    "    plot = ac_gdf.hvplot(\n",
    "        geo=True,\n",
    "        tiles=\"EsriImagery\",\n",
    "        color=\"sds:change_rate\",\n",
    "        cmap=cc.CET_D3[::-1],\n",
    "        clim=clim,\n",
    "        frame_width=800,\n",
    "        frame_height=600,\n",
    "        colorbar=True,\n",
    "        title=\"Shoreline Change Trend (m/year)\",\n",
    "        tools=[\"hover\"],\n",
    "    )\n",
    "\n",
    "    return plot"
   ]
  },
  {
   "cell_type": "code",
   "execution_count": null,
   "id": "11",
   "metadata": {},
   "outputs": [],
   "source": [
    "plot_shoreline_change_trend(ac)"
   ]
  },
  {
   "cell_type": "code",
   "execution_count": null,
   "id": "12",
   "metadata": {},
   "outputs": [],
   "source": [
    "import dask_geopandas\n",
    "\n",
    "ddf = dask_geopandas.read_parquet(\n",
    "    snapshot.href.to_list(),\n",
    "    storage_options=storage_options,\n",
    "    columns=[\"transect_id\", \"lon\", \"lat\", \"sds:change_rate\"],\n",
    ").compute()"
   ]
  },
  {
   "cell_type": "code",
   "execution_count": null,
   "id": "13",
   "metadata": {},
   "outputs": [],
   "source": [
    "df = ddf[~ddf[\"sds:change_rate\"].isna()].copy()"
   ]
  },
  {
   "cell_type": "code",
   "execution_count": null,
   "id": "14",
   "metadata": {},
   "outputs": [],
   "source": [
    "df = gpd.GeoDataFrame(df[[\"transect_id\", \"sds:change_rate\"]], geometry=gpd.GeoSeries.from_xy(df.lon,df.lat, crs=4326))"
   ]
  },
  {
   "cell_type": "code",
   "execution_count": null,
   "id": "15",
   "metadata": {},
   "outputs": [],
   "source": [
    "df.to_parquet(\"/Users/calkoen/data/tmp/shorelinemonitor-change-rate.parquet\")"
   ]
  },
  {
   "cell_type": "code",
   "execution_count": null,
   "id": "16",
   "metadata": {},
   "outputs": [],
   "source": [
    "ddf.columns"
   ]
  }
 ],
 "metadata": {
  "kernelspec": {
   "display_name": "Python [conda env:testenv] *",
   "language": "python",
   "name": "conda-env-testenv-py"
  },
  "language_info": {
   "codemirror_mode": {
    "name": "ipython",
    "version": 3
   },
   "file_extension": ".py",
   "mimetype": "text/x-python",
   "name": "python",
   "nbconvert_exporter": "python",
   "pygments_lexer": "ipython3",
   "version": "3.12.8"
  }
 },
 "nbformat": 4,
 "nbformat_minor": 5
}
