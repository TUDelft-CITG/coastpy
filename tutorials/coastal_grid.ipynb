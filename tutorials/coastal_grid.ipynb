{
 "cells": [
  {
   "cell_type": "markdown",
   "id": "0",
   "metadata": {},
   "source": [
    "# Coastal Grid\n",
    "\n",
    "The Coastal Grid dataset provides a global tiling system for coastal analytics. It\n",
    "supports scalable data processing workflows by offering coastal tiles at varying zoom \n",
    "levels (5, 6, 7, 8, 9, 10) and buffer sizes (500 m, 1000 m, 2000 m, 5000 m, 10000 m, 15000 m).\n",
    "\n",
    "Each tile contains information on intersecting countries, continents, and Sentinel-2 MGRS tiles\n",
    "as nested JSON lists. The dataset is particularly suited for applications requiring global coastal\n",
    "coverage, such as satellite-based coastal monitoring, spatial analytics, and large-scale data processing.\n",
    "\n",
    "This dataset is structured as a STAC collection, with individual items for each zoom level and buffer\n",
    "size combination. Users can filter items by the `zoom` and `buffer_size` fields in the STAC metadata.\n",
    "\n",
    "Please consider the following citation when using this dataset:\n",
    "\n",
    "Floris Reinier Calkoen, Arjen Pieter Luijendijk, Kilian Vos, Etiënne Kras, Fedor Baart,\n",
    "Enabling coastal analytics at planetary scale, Environmental Modelling & Software, 2024,\n",
    "106257, ISSN 1364-8152, https://doi.org/10.1016/j.envsoft.2024.106257."
   ]
  },
  {
   "cell_type": "code",
   "execution_count": null,
   "id": "1",
   "metadata": {},
   "outputs": [],
   "source": [
    "import fsspec\n",
    "import geopandas as gpd\n",
    "import hvplot.pandas\n",
    "import pystac\n",
    "\n",
    "storage_options = {\"account_name\": \"coclico\"}"
   ]
  },
  {
   "cell_type": "markdown",
   "id": "2",
   "metadata": {},
   "source": [
    "### Connect to the CoCliCo STAC "
   ]
  },
  {
   "cell_type": "code",
   "execution_count": null,
   "id": "3",
   "metadata": {},
   "outputs": [],
   "source": [
    "coclico_catalog = pystac.Catalog.from_file(\n",
    "    \"https://coclico.blob.core.windows.net/stac/v1/catalog.json\"\n",
    ")\n",
    "coastal_grid_collection = coclico_catalog.get_child(\"coastal-grid\")\n",
    "coastal_grid_collection"
   ]
  },
  {
   "cell_type": "markdown",
   "id": "4",
   "metadata": {},
   "source": [
    "### The collection includes multiple buffer distances"
   ]
  },
  {
   "cell_type": "code",
   "execution_count": null,
   "id": "5",
   "metadata": {},
   "outputs": [],
   "source": [
    "list(coastal_grid_collection.get_all_items())"
   ]
  },
  {
   "cell_type": "code",
   "execution_count": null,
   "id": "6",
   "metadata": {},
   "outputs": [],
   "source": [
    "item = coastal_grid_collection.get_item(\"coastal_grid_z7_10000m\")\n",
    "item"
   ]
  },
  {
   "cell_type": "markdown",
   "id": "7",
   "metadata": {},
   "source": [
    "## The data is stored here"
   ]
  },
  {
   "cell_type": "code",
   "execution_count": null,
   "id": "8",
   "metadata": {},
   "outputs": [],
   "source": [
    "href = item.assets[\"data\"].href\n",
    "href"
   ]
  },
  {
   "cell_type": "markdown",
   "id": "9",
   "metadata": {},
   "source": [
    "## Read it into GeoPandas"
   ]
  },
  {
   "cell_type": "code",
   "execution_count": null,
   "id": "10",
   "metadata": {},
   "outputs": [],
   "source": [
    "with fsspec.open(href, mode=\"rb\", **storage_options) as f:\n",
    "    coastal_grid = gpd.read_parquet(f)"
   ]
  },
  {
   "cell_type": "code",
   "execution_count": null,
   "id": "11",
   "metadata": {},
   "outputs": [],
   "source": [
    "print(coastal_grid.shape)\n",
    "coastal_grid.head()"
   ]
  },
  {
   "cell_type": "markdown",
   "id": "12",
   "metadata": {},
   "source": [
    "## Show the data on an interactive map"
   ]
  },
  {
   "cell_type": "code",
   "execution_count": null,
   "id": "13",
   "metadata": {},
   "outputs": [],
   "source": [
    "plot = coastal_grid.hvplot.polygons(\n",
    "    geo=True,\n",
    "    tiles=\"ESRI\",\n",
    "    color=\"coastal_grid:id\",\n",
    "    cmap=\"Category10\",\n",
    "    line_color=\"orange\",\n",
    "    alpha=0.8,\n",
    "    width=800,\n",
    "    legend=False,\n",
    ")\n",
    "plot"
   ]
  },
  {
   "cell_type": "code",
   "execution_count": null,
   "id": "14",
   "metadata": {},
   "outputs": [],
   "source": []
  }
 ],
 "metadata": {
  "kernelspec": {
   "display_name": "Python [conda env:coastal-full] *",
   "language": "python",
   "name": "conda-env-coastal-full-py"
  },
  "language_info": {
   "codemirror_mode": {
    "name": "ipython",
    "version": 3
   },
   "file_extension": ".py",
   "mimetype": "text/x-python",
   "name": "python",
   "nbconvert_exporter": "python",
   "pygments_lexer": "ipython3",
   "version": "3.12.8"
  }
 },
 "nbformat": 4,
 "nbformat_minor": 5
}
