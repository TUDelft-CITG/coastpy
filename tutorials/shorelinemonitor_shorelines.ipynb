{
 "cells": [
  {
   "cell_type": "markdown",
   "id": "0",
   "metadata": {},
   "source": [
    "# ShorelineMonitor Shorelines\n",
    "\n",
    "The ShorelineMonitor dataset provides [Satellite-Derived Shorelines (SDS)](https://radiantearth.github.io/stac-browser/#/external/coclico.blob.core.windows.net/stac/v1/shorelinemonitor-shorelines/collection.json) extracted from annually\n",
    "composited Landsat satellite imagery spanning the years 1984-2024. These shorelines offer a global\n",
    "view of coastal change and shoreline dynamics, serving as a critical foundation for global coastal\n",
    "monitoring and analytics.\n",
    "\n",
    "The shorelines are LineStrings with additional attributes such as measures of curvature (sinuosity, fractal dimension and self-intersection density) as well as composite\n",
    "image identifiers, cloud-coverage metrics, and some parameters used in the shoreline extraction process.\n",
    "\n",
    "This dataset builds on earlier efforts by Luijendijk et al. (2018) and Deltares RPC, and has now been processed as cloud-native dataset (Calkoen et al. 2025) to enhance global-scale coastal analytics. The dataset is available upon reasonable request. Please contact the data provider for more information or collaboration opportunities."
   ]
  },
  {
   "cell_type": "code",
   "execution_count": null,
   "id": "1",
   "metadata": {},
   "outputs": [],
   "source": [
    "import os\n",
    "\n",
    "import dotenv\n",
    "import fsspec\n",
    "import geopandas as gpd\n",
    "import hvplot.pandas\n",
    "import pandas as pd\n",
    "import pystac\n",
    "import shapely\n",
    "from dotenv import load_dotenv\n",
    "from ipyleaflet import Map, basemaps\n",
    "\n",
    "from coastpy.stac.utils import read_snapshot\n",
    "\n",
    "load_dotenv()\n",
    "\n",
    "# Configure cloud and Dask settings\n",
    "sas_token = os.getenv(\"AZURE_STORAGE_SAS_TOKEN\")\n",
    "storage_options = {\"account_name\": \"coclico\", \"sas_token\": sas_token}\n",
    "\n",
    "\n",
    "coclico_catalog = pystac.Catalog.from_file(\n",
    "    \"https://coclico.blob.core.windows.net/stac/v1/catalog.json\"\n",
    ")\n",
    "collection = coclico_catalog.get_child(\"shorelinemonitor-shorelines\")"
   ]
  },
  {
   "cell_type": "code",
   "execution_count": null,
   "id": "2",
   "metadata": {},
   "outputs": [],
   "source": [
    "snapshot = read_snapshot(collection, storage_options=storage_options)\n",
    "snapshot.head()"
   ]
  },
  {
   "cell_type": "code",
   "execution_count": null,
   "id": "3",
   "metadata": {},
   "outputs": [],
   "source": [
    "snapshot.explore()"
   ]
  },
  {
   "cell_type": "markdown",
   "id": "4",
   "metadata": {},
   "source": [
    "## Select a region of interest\n",
    "\n",
    "Wait for map to render and zoom to area of interest. "
   ]
  },
  {
   "cell_type": "code",
   "execution_count": null,
   "id": "5",
   "metadata": {},
   "outputs": [],
   "source": [
    "from ipyleaflet import Map, basemaps\n",
    "\n",
    "m = Map(basemap=basemaps.Esri.WorldImagery, scroll_wheel_zoom=True)\n",
    "m.center = (43.32, -1.97)\n",
    "m.zoom = 14\n",
    "m.layout.height = \"800px\"\n",
    "m"
   ]
  },
  {
   "cell_type": "code",
   "execution_count": null,
   "id": "6",
   "metadata": {},
   "outputs": [],
   "source": [
    "from coastpy.geo.utils import get_region_of_interest_from_map\n",
    "\n",
    "roi = get_region_of_interest_from_map(m, default_extent=(4.796, 53.108, 5.229, 53.272))\n",
    "west, south, east, north = list(roi.total_bounds)"
   ]
  },
  {
   "cell_type": "markdown",
   "id": "7",
   "metadata": {},
   "source": [
    "## Fetch data"
   ]
  },
  {
   "cell_type": "code",
   "execution_count": null,
   "id": "8",
   "metadata": {},
   "outputs": [],
   "source": [
    "import coastpy\n",
    "\n",
    "db = coastpy.io.STACQueryEngine(\n",
    "    stac_collection=collection,\n",
    "    storage_backend=\"azure\",\n",
    "    # columns = [\"geometry\", \"shoreline_id\", \"datetime\", \"bbox\", ] ... # when you don't need all data\n",
    ")"
   ]
  },
  {
   "cell_type": "code",
   "execution_count": null,
   "id": "9",
   "metadata": {},
   "outputs": [],
   "source": [
    "from coastpy.utils.config import fetch_sas_token\n",
    "\n",
    "sas_token = fetch_sas_token(sas_token)\n",
    "df = db.get_data_within_bbox(west, south, east, north, sas_token=sas_token)\n",
    "print(f\"Shape: {df.shape}\")\n",
    "df.head()"
   ]
  },
  {
   "cell_type": "markdown",
   "id": "10",
   "metadata": {},
   "source": [
    "## Plot the data on a map\n",
    "\n",
    "Currently the hvplot() method for linestrings (paths) is broken, so we use matplotlib. "
   ]
  },
  {
   "cell_type": "code",
   "execution_count": null,
   "id": "11",
   "metadata": {},
   "outputs": [],
   "source": [
    "df = gpd.overlay(df, roi)\n",
    "df = df.assign(year=pd.to_datetime(df.datetime).dt.strftime(\"%Y\"))\n",
    "df[\"year\"] = df[\"year\"].astype(\"int16\")"
   ]
  },
  {
   "cell_type": "code",
   "execution_count": null,
   "id": "12",
   "metadata": {},
   "outputs": [],
   "source": [
    "import colorcet as cc\n",
    "import contextily as ctx\n",
    "import matplotlib.pyplot as plt\n",
    "\n",
    "# Create a figure and axis\n",
    "fig, ax = plt.subplots(1, 1, figsize=(10, 10))\n",
    "\n",
    "cmap = cc.m_bmy\n",
    "\n",
    "df.plot(\n",
    "    ax=ax,\n",
    "    column=\"year\",  #\n",
    "    cmap=cmap,\n",
    "    legend=True,\n",
    "    legend_kwds={\"label\": \"Year\", \"orientation\": \"vertical\"},\n",
    "    linewidth=1.5,\n",
    "    alpha=0.8,\n",
    ")\n",
    "\n",
    "\n",
    "ctx.add_basemap(\n",
    "    ax, crs=df.crs.to_string(), source=ctx.providers.Esri.WorldImagery\n",
    ")\n",
    "\n",
    "plt.tight_layout()\n",
    "plt.show()"
   ]
  },
  {
   "cell_type": "markdown",
   "id": "13",
   "metadata": {},
   "source": [
    "## Work with the full dataset"
   ]
  },
  {
   "cell_type": "code",
   "execution_count": null,
   "id": "14",
   "metadata": {},
   "outputs": [],
   "source": [
    "import dask_geopandas\n",
    "\n",
    "fs = fsspec.filesystem(\"az\", **storage_options)\n",
    "urlpaths = snapshot.href.to_list()\n",
    "ddf = dask_geopandas.read_parquet(urlpaths, filesystem=fs)"
   ]
  },
  {
   "cell_type": "code",
   "execution_count": null,
   "id": "15",
   "metadata": {},
   "outputs": [],
   "source": [
    "ddf"
   ]
  },
  {
   "cell_type": "code",
   "execution_count": null,
   "id": "16",
   "metadata": {},
   "outputs": [],
   "source": []
  }
 ],
 "metadata": {
  "kernelspec": {
   "display_name": "Python [conda env:coastal-full] *",
   "language": "python",
   "name": "conda-env-coastal-full-py"
  },
  "language_info": {
   "codemirror_mode": {
    "name": "ipython",
    "version": 3
   },
   "file_extension": ".py",
   "mimetype": "text/x-python",
   "name": "python",
   "nbconvert_exporter": "python",
   "pygments_lexer": "ipython3",
   "version": "3.12.8"
  }
 },
 "nbformat": 4,
 "nbformat_minor": 5
}
