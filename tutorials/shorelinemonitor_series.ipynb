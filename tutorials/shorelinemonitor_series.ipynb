{
 "cells": [
  {
   "cell_type": "markdown",
   "id": "0",
   "metadata": {},
   "source": [
    "# ShorelineMonitor: Satellite-Derived Shoreline-Series\n",
    "\n",
    "The ShorelineMonitor Shorelines dataset provides Satellite-Derived Shorelines (SDS) extracted from annually composited Landsat satellite imagery spanning the years 1984-2024. These shorelines are mapped onto the Global Coastal Transect System (GCTS) and together form a new dataset consisting of time series. This ShorelineMonitor Shoreline-Series consists of more than 400 million observations, including 54 attributes. In this notebook we explore this dataset that essentially consists of annual shoreline observations per transect. \n",
    "\n",
    "This dataset contains several attributes and variables. These are described in this [STAC collection](https://radiantearth.github.io/stac-browser/#/external/coclico.blob.core.windows.net/stac/v1/shorelinemonitor-series/collection.json). Please have a look at the metadata in one of the items.   "
   ]
  },
  {
   "cell_type": "code",
   "execution_count": null,
   "id": "1",
   "metadata": {},
   "outputs": [],
   "source": [
    "import os\n",
    "\n",
    "import dotenv\n",
    "import fsspec\n",
    "import geopandas as gpd\n",
    "import hvplot.pandas\n",
    "import pandas as pd\n",
    "import pystac\n",
    "import shapely\n",
    "from dotenv import load_dotenv\n",
    "from ipyleaflet import Map, basemaps\n",
    "\n",
    "from coastpy.stac.utils import read_snapshot\n",
    "\n",
    "load_dotenv()\n",
    "\n",
    "# Configure cloud and Dask settings\n",
    "sas_token = os.getenv(\"AZURE_STORAGE_SAS_TOKEN\")\n",
    "storage_options = {\"account_name\": \"coclico\", \"sas_token\": sas_token}\n",
    "\n",
    "coclico_catalog = pystac.Catalog.from_file(\n",
    "    \"https://coclico.blob.core.windows.net/stac/v1/catalog.json\"\n",
    ")\n",
    "collection = coclico_catalog.get_child(\"shorelinemonitor-series\")"
   ]
  },
  {
   "cell_type": "code",
   "execution_count": null,
   "id": "2",
   "metadata": {},
   "outputs": [],
   "source": [
    "snapshot = read_snapshot(collection, storage_options=storage_options)\n",
    "snapshot.head()"
   ]
  },
  {
   "cell_type": "markdown",
   "id": "3",
   "metadata": {},
   "source": [
    "## Spatial partitions\n",
    "\n",
    "This map shows the spatial partitions. In this release we have prioritized having unique transect_ids per partition over geospatial sorting. As a result there are overlapping partitions. This can be improved in the future. "
   ]
  },
  {
   "cell_type": "code",
   "execution_count": null,
   "id": "4",
   "metadata": {},
   "outputs": [],
   "source": [
    "snapshot.hvplot(geo=True, tiles=\"OSM\", line_color=\"black\", fill_alpha=0.2)"
   ]
  },
  {
   "cell_type": "markdown",
   "id": "5",
   "metadata": {},
   "source": [
    "## Select a region of interest\n",
    "\n",
    "Wait for the map to render and zoom to area of interest. "
   ]
  },
  {
   "cell_type": "code",
   "execution_count": null,
   "id": "6",
   "metadata": {},
   "outputs": [],
   "source": [
    "from ipyleaflet import Map, basemaps\n",
    "\n",
    "m = Map(basemap=basemaps.Esri.WorldImagery, scroll_wheel_zoom=True)\n",
    "m.center = (43.32, -1.97)\n",
    "m.zoom = 14\n",
    "m.layout.height = \"800px\"\n",
    "m"
   ]
  },
  {
   "cell_type": "code",
   "execution_count": null,
   "id": "7",
   "metadata": {},
   "outputs": [],
   "source": [
    "west, south, east, north = m.west, m.south, m.east, m.north\n",
    "\n",
    "# Default values for west, south, east, north (useful for testing or when not set)\n",
    "if not west:\n",
    "    west, south, east, north = (-2.006, 43.295, -1.934, 43.345)\n",
    "\n",
    "# Calculate center\n",
    "center_lon = (west + east) / 2\n",
    "center_lat = (north + south) / 2\n",
    "\n",
    "# Print center in copy-pasteable format (rounded to 2 decimal places)\n",
    "print(f\"m.center = ({center_lon:.2f}, {center_lat:.2f})\")\n",
    "\n",
    "# Print extent in copy-pasteable format (rounded to 3 decimal places)\n",
    "print(f\"west, south, east, north = ({west:.3f}, {south:.3f}, {east:.3f}, {north:.3f})\")\n",
    "\n",
    "roi = gpd.GeoDataFrame(\n",
    "    geometry=[shapely.geometry.box(west, south, east, north)], crs=4326\n",
    ")"
   ]
  },
  {
   "cell_type": "markdown",
   "id": "8",
   "metadata": {},
   "source": [
    "## Fetch data"
   ]
  },
  {
   "cell_type": "code",
   "execution_count": null,
   "id": "9",
   "metadata": {},
   "outputs": [],
   "source": [
    "import coastpy\n",
    "\n",
    "db = coastpy.io.STACQueryEngine(\n",
    "    stac_collection=collection,\n",
    "    storage_backend=\"azure\",\n",
    "    # columns = [\"geometry\", \"transect_id\", \"sds:change_rate\"] ... # when you don't need all data\n",
    ")"
   ]
  },
  {
   "cell_type": "code",
   "execution_count": null,
   "id": "10",
   "metadata": {},
   "outputs": [],
   "source": [
    "from coastpy.utils.config import fetch_sas_token\n",
    "\n",
    "sas_token = fetch_sas_token(sas_token)\n",
    "df = db.get_data_within_bbox(west, south, east, north, sas_token=sas_token)\n",
    "print(f\"Shape: {df.shape}\")\n",
    "df.head()"
   ]
  },
  {
   "cell_type": "markdown",
   "id": "11",
   "metadata": {},
   "source": [
    "## Explore data in a dashboard"
   ]
  },
  {
   "cell_type": "code",
   "execution_count": null,
   "id": "12",
   "metadata": {},
   "outputs": [],
   "source": [
    "from coastpy.viz.dashboard import ShorelineSeriesApp\n",
    "\n",
    "ShorelineSeriesApp(df).show()"
   ]
  },
  {
   "cell_type": "markdown",
   "id": "13",
   "metadata": {},
   "source": [
    "## Process the dataset in bulk"
   ]
  },
  {
   "cell_type": "code",
   "execution_count": null,
   "id": "14",
   "metadata": {},
   "outputs": [],
   "source": [
    "import dask_geopandas\n",
    "\n",
    "fs = fsspec.filesystem(\"az\", **storage_options)\n",
    "\n",
    "urlpaths = series_snapshot.href.to_list()\n",
    "\n",
    "ddf = dask_geopandas.read_parquet(urlpaths, filesystem=fs)\n",
    "ddf"
   ]
  },
  {
   "cell_type": "code",
   "execution_count": null,
   "id": "15",
   "metadata": {},
   "outputs": [],
   "source": [
    "def process(df):\n",
    "    # your code comes here\n",
    "    ...\n",
    "    return df\n",
    "\n",
    "\n",
    "result = ddf.map_partitions(process)"
   ]
  }
 ],
 "metadata": {
  "kernelspec": {
   "display_name": "Python [conda env:coastal-full] *",
   "language": "python",
   "name": "conda-env-coastal-full-py"
  },
  "language_info": {
   "codemirror_mode": {
    "name": "ipython",
    "version": 3
   },
   "file_extension": ".py",
   "mimetype": "text/x-python",
   "name": "python",
   "nbconvert_exporter": "python",
   "pygments_lexer": "ipython3",
   "version": "3.12.8"
  }
 },
 "nbformat": 4,
 "nbformat_minor": 5
}
